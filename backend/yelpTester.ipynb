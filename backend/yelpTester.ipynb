{
 "cells": [
  {
   "cell_type": "code",
   "execution_count": 1,
   "metadata": {},
   "outputs": [],
   "source": [
    "import requests\n",
    "import json\n",
    "import numpy\n",
    "import pandas\n",
    "\n",
    "api_key = \"PLACEHOLDER\"\n",
    "headers = {'Authorization': 'Bearer %s' % api_key}\n",
    "url='https://api.yelp.com/v3/businesses/search'\n",
    "locationType = \"Bubble Tea\"\n",
    "city = \"Seattle\"\n",
    "params = {'term':locationType,'location':city}\n",
    "req=requests.get(url, params=params, headers=headers)\n",
    "req=json.loads(req.text)"
   ]
  },
  {
   "cell_type": "code",
   "execution_count": 3,
   "metadata": {},
   "outputs": [],
   "source": [
    "total_locations = 20\n",
    "names = []\n",
    "addresses = []\n",
    "ratings = []\n",
    "urls = []\n",
    "coordinates = []\n",
    "images = []\n",
    "ids = []\n",
    "\n",
    "for i in range(0, total_locations) :\n",
    "  name = req[\"businesses\"][i][\"name\"]\n",
    "  names.append(name)\n",
    "  address = req[\"businesses\"][i][\"location\"][\"display_address\"]\n",
    "  addresses.append(address)\n",
    "  rating = req[\"businesses\"][i][\"rating\"]\n",
    "  ratings.append(rating)\n",
    "  url = req[\"businesses\"][i][\"url\"]\n",
    "  urls.append(url)\n",
    "  coordinate = req[\"businesses\"][i][\"coordinates\"]\n",
    "  coordinates.append(coordinate)\n",
    "  image = req[\"businesses\"][i][\"image_url\"]\n",
    "  images.append(image)\n",
    "  id = req[\"businesses\"][i][\"id\"]\n",
    "  ids.append(id)"
   ]
  },
  {
   "cell_type": "code",
   "execution_count": 9,
   "metadata": {},
   "outputs": [
    {
     "name": "stdout",
     "output_type": "stream",
     "text": [
      "     longitude   latitude\n",
      "0  -122.313390  47.661630\n",
      "1  -122.325970  47.597330\n",
      "2  -122.319200  47.613350\n",
      "3  -122.323938  47.598268\n",
      "4  -122.317201  47.665330\n",
      "5  -122.355273  47.624012\n",
      "6  -122.327310  47.598460\n",
      "7  -122.325910  47.635680\n",
      "8  -122.322380  47.614800\n",
      "9  -122.348235  47.649569\n",
      "10 -122.333901  47.622731\n",
      "11 -122.313540  47.658070\n",
      "12 -122.325451  47.598233\n",
      "13 -122.333120  47.616380\n",
      "14 -122.317180  47.616910\n",
      "15 -122.303834  47.618136\n",
      "16 -122.350314  47.651839\n",
      "17 -122.313243  47.668404\n",
      "18 -122.320640  47.620059\n",
      "19 -122.326770  47.598490\n"
     ]
    }
   ],
   "source": [
    "from sklearn.cluster import KMeans\n",
    "\n",
    "sanitized_df = pandas.DataFrame(coordinates, columns=[\"longitude\", \"latitude\"])\n",
    "location_data = sanitized_df.copy()\n",
    "location_data.insert(0, 'name', names)\n",
    "location_data.insert(1, 'address', addresses)\n",
    "location_data.insert(2, 'rating', ratings)\n",
    "location_data.insert(3, 'url', urls)\n",
    "location_data.insert(4, 'image', images)\n",
    "location_data.insert(5, 'id', id)\n",
    "kmeans = KMeans(\n",
    "  init=\"random\",\n",
    "  n_clusters=10,\n",
    "  n_init=10,\n",
    "  max_iter=300,\n",
    "  random_state=42\n",
    ")\n",
    "print(sanitized_df)\n",
    "kmeans.fit(sanitized_df)\n",
    "labels = kmeans.labels_\n",
    "centroids = kmeans.cluster_centers_\n",
    "location_data[\"cluster\"] = kmeans.labels_\n",
    "centroid_df = pandas.DataFrame(centroids, columns=[\"cx\", \"cy\"])\n",
    "centroid_df[\"cluster\"] = range(0, len(centroid_df))\n",
    "location_data = location_data.merge(centroid_df, left_on='cluster', right_on='cluster')\n",
    "location_data[\"distance\"] = numpy.sqrt(numpy.square(location_data[\"cx\"] - location_data[\"longitude\"]) + numpy.square(location_data[\"cy\"] - location_data[\"latitude\"]))\n",
    "location_data[\"avg_distances\"] = location_data.groupby(\"cluster\")[\"distance\"].transform(\"mean\")\n",
    "location_data = location_data.sort_values(\"avg_distances\")"
   ]
  },
  {
   "cell_type": "code",
   "execution_count": 12,
   "metadata": {},
   "outputs": [
    {
     "name": "stdout",
     "output_type": "stream",
     "text": [
      "                      name                                       address  \\\n",
      "2                Young Tea  [609 S Weller St, Unit B, Seattle, WA 98104]   \n",
      "3                   TP TEA            [679 S King St, Seattle, WA 98104]   \n",
      "4         Seattle Best Tea            [506 S King St, Seattle, WA 98104]   \n",
      "5  Yifang Taiwan Fruit Tea            [619 S King St, Seattle, WA 98104]   \n",
      "6    Yomie's Rice X Yogurt            [518 S King St, Seattle, WA 98104]   \n",
      "\n",
      "   rating                                                url  \\\n",
      "2     4.5  https://www.yelp.com/biz/young-tea-seattle?adj...   \n",
      "3     4.0  https://www.yelp.com/biz/tp-tea-seattle?adjust...   \n",
      "4     4.5  https://www.yelp.com/biz/seattle-best-tea-seat...   \n",
      "5     3.5  https://www.yelp.com/biz/yifang-taiwan-fruit-t...   \n",
      "6     4.0  https://www.yelp.com/biz/yomies-rice-x-yogurt-...   \n",
      "\n",
      "                                               image  \n",
      "2  https://s3-media3.fl.yelpcdn.com/bphoto/cA4vwp...  \n",
      "3  https://s3-media3.fl.yelpcdn.com/bphoto/b_5pNZ...  \n",
      "4  https://s3-media2.fl.yelpcdn.com/bphoto/o469z2...  \n",
      "5  https://s3-media4.fl.yelpcdn.com/bphoto/l7-xpw...  \n",
      "6  https://s3-media1.fl.yelpcdn.com/bphoto/BQ7_7T...  \n",
      "{'Young Tea': {'address': ['609 S Weller St', 'Unit B', 'Seattle, WA 98104'], 'rating': 4.5, 'url': 'https://www.yelp.com/biz/young-tea-seattle?adjust_creative=CeJQLWZ1rcNLfAJ8bryLvA&utm_campaign=yelp_api_v3&utm_medium=api_v3_business_search&utm_source=CeJQLWZ1rcNLfAJ8bryLvA', 'image': 'https://s3-media3.fl.yelpcdn.com/bphoto/cA4vwp-AfzIRKegN06JjLg/o.jpg'}, 'TP TEA': {'address': ['679 S King St', 'Seattle, WA 98104'], 'rating': 4.0, 'url': 'https://www.yelp.com/biz/tp-tea-seattle?adjust_creative=CeJQLWZ1rcNLfAJ8bryLvA&utm_campaign=yelp_api_v3&utm_medium=api_v3_business_search&utm_source=CeJQLWZ1rcNLfAJ8bryLvA', 'image': 'https://s3-media3.fl.yelpcdn.com/bphoto/b_5pNZm46cMBpJTlFLAIAg/o.jpg'}, 'Seattle Best Tea': {'address': ['506 S King St', 'Seattle, WA 98104'], 'rating': 4.5, 'url': 'https://www.yelp.com/biz/seattle-best-tea-seattle?adjust_creative=CeJQLWZ1rcNLfAJ8bryLvA&utm_campaign=yelp_api_v3&utm_medium=api_v3_business_search&utm_source=CeJQLWZ1rcNLfAJ8bryLvA', 'image': 'https://s3-media2.fl.yelpcdn.com/bphoto/o469z2JOCqjifklbXKnlew/o.jpg'}, 'Yifang Taiwan Fruit Tea': {'address': ['619 S King St', 'Seattle, WA 98104'], 'rating': 3.5, 'url': 'https://www.yelp.com/biz/yifang-taiwan-fruit-tea-seattle-3?adjust_creative=CeJQLWZ1rcNLfAJ8bryLvA&utm_campaign=yelp_api_v3&utm_medium=api_v3_business_search&utm_source=CeJQLWZ1rcNLfAJ8bryLvA', 'image': 'https://s3-media4.fl.yelpcdn.com/bphoto/l7-xpwlilSg7mJTOYLscjw/o.jpg'}, \"Yomie's Rice X Yogurt\": {'address': ['518 S King St', 'Seattle, WA 98104'], 'rating': 4.0, 'url': 'https://www.yelp.com/biz/yomies-rice-x-yogurt-seattle-3?adjust_creative=CeJQLWZ1rcNLfAJ8bryLvA&utm_campaign=yelp_api_v3&utm_medium=api_v3_business_search&utm_source=CeJQLWZ1rcNLfAJ8bryLvA', 'image': 'https://s3-media1.fl.yelpcdn.com/bphoto/BQ7_7TzP9nFFwBzaJsob2w/o.jpg'}}\n"
     ]
    }
   ],
   "source": [
    "place = 1\n",
    "best_cluster = location_data[\"cluster\"][place]\n",
    "threshold = 2\n",
    "num_in_group = 1\n",
    "while threshold > num_in_group:\n",
    "  if best_cluster == location_data[\"cluster\"][place + 1]:\n",
    "    num_in_group = num_in_group + 1\n",
    "  else:\n",
    "    place = 1\n",
    "    best_cluster = best_cluster + 1\n",
    "    num_in_group = 1\n",
    "  place = place + 1\n",
    "best_result = location_data[location_data[\"cluster\"] == best_cluster]\n",
    "best_result = best_result.loc[:,[\"name\", \"address\", \"rating\", \"url\", \"image\", \"id\"]]\n",
    "print(best_result)\n",
    "\n",
    "best_result.set_index(\"id\", drop=True, inplace=True)\n",
    "final_result = best_result.to_dict(orient=\"index\")\n",
    "print(final_result)"
   ]
  },
  {
   "cell_type": "code",
   "execution_count": 13,
   "metadata": {},
   "outputs": [
    {
     "data": {
      "image/png": "[encoded data removed]",
      "text/plain": [
       "<Figure size 432x288 with 1 Axes>"
      ]
     },
     "metadata": {
      "needs_background": "light"
     },
     "output_type": "display_data"
    },
    {
     "data": {
      "application/vnd.plotly.v1+json": {
       "config": {
        "plotlyServerURL": "https://plot.ly"
       },
       "data": [
        {
         "type": "scatter",
         "y": [
          2,
          3,
          1
         ]
        }
       ],
       "layout": {
        "template": {
         "data": {
          "bar": [
           {
            "error_x": {
             "color": "#2a3f5f"
            },
            "error_y": {
             "color": "#2a3f5f"
            },
            "marker": {
             "line": {
              "color": "#E5ECF6",
              "width": 0.5
             },
             "pattern": {
              "fillmode": "overlay",
              "size": 10,
              "solidity": 0.2
             }
            },
            "type": "bar"
           }
          ],
          "barpolar": [
           {
            "marker": {
             "line": {
              "color": "#E5ECF6",
              "width": 0.5
             },
             "pattern": {
              "fillmode": "overlay",
              "size": 10,
              "solidity": 0.2
             }
            },
            "type": "barpolar"
           }
          ],
          "carpet": [
           {
            "aaxis": {
             "endlinecolor": "#2a3f5f",
             "gridcolor": "white",
             "linecolor": "white",
             "minorgridcolor": "white",
             "startlinecolor": "#2a3f5f"
            },
            "baxis": {
             "endlinecolor": "#2a3f5f",
             "gridcolor": "white",
             "linecolor": "white",
             "minorgridcolor": "white",
             "startlinecolor": "#2a3f5f"
            },
            "type": "carpet"
           }
          ],
          "choropleth": [
           {
            "colorbar": {
             "outlinewidth": 0,
             "ticks": ""
            },
            "type": "choropleth"
           }
          ],
          "contour": [
           {
            "colorbar": {
             "outlinewidth": 0,
             "ticks": ""
            },
            "colorscale": [
             [
              0,
              "#0d0887"
             ],
             [
              0.1111111111111111,
              "#46039f"
             ],
             [
              0.2222222222222222,
              "#7201a8"
             ],
             [
              0.3333333333333333,
              "#9c179e"
             ],
             [
              0.4444444444444444,
              "#bd3786"
             ],
             [
              0.5555555555555556,
              "#d8576b"
             ],
             [
              0.6666666666666666,
              "#ed7953"
             ],
             [
              0.7777777777777778,
              "#fb9f3a"
             ],
             [
              0.8888888888888888,
              "#fdca26"
             ],
             [
              1,
              "#f0f921"
             ]
            ],
            "type": "contour"
           }
          ],
          "contourcarpet": [
           {
            "colorbar": {
             "outlinewidth": 0,
             "ticks": ""
            },
            "type": "contourcarpet"
           }
          ],
          "heatmap": [
           {
            "colorbar": {
             "outlinewidth": 0,
             "ticks": ""
            },
            "colorscale": [
             [
              0,
              "#0d0887"
             ],
             [
              0.1111111111111111,
              "#46039f"
             ],
             [
              0.2222222222222222,
              "#7201a8"
             ],
             [
              0.3333333333333333,
              "#9c179e"
             ],
             [
              0.4444444444444444,
              "#bd3786"
             ],
             [
              0.5555555555555556,
              "#d8576b"
             ],
             [
              0.6666666666666666,
              "#ed7953"
             ],
             [
              0.7777777777777778,
              "#fb9f3a"
             ],
             [
              0.8888888888888888,
              "#fdca26"
             ],
             [
              1,
              "#f0f921"
             ]
            ],
            "type": "heatmap"
           }
          ],
          "heatmapgl": [
           {
            "colorbar": {
             "outlinewidth": 0,
             "ticks": ""
            },
            "colorscale": [
             [
              0,
              "#0d0887"
             ],
             [
              0.1111111111111111,
              "#46039f"
             ],
             [
              0.2222222222222222,
              "#7201a8"
             ],
             [
              0.3333333333333333,
              "#9c179e"
             ],
             [
              0.4444444444444444,
              "#bd3786"
             ],
             [
              0.5555555555555556,
              "#d8576b"
             ],
             [
              0.6666666666666666,
              "#ed7953"
             ],
             [
              0.7777777777777778,
              "#fb9f3a"
             ],
             [
              0.8888888888888888,
              "#fdca26"
             ],
             [
              1,
              "#f0f921"
             ]
            ],
            "type": "heatmapgl"
           }
          ],
          "histogram": [
           {
            "marker": {
             "pattern": {
              "fillmode": "overlay",
              "size": 10,
              "solidity": 0.2
             }
            },
            "type": "histogram"
           }
          ],
          "histogram2d": [
           {
            "colorbar": {
             "outlinewidth": 0,
             "ticks": ""
            },
            "colorscale": [
             [
              0,
              "#0d0887"
             ],
             [
              0.1111111111111111,
              "#46039f"
             ],
             [
              0.2222222222222222,
              "#7201a8"
             ],
             [
              0.3333333333333333,
              "#9c179e"
             ],
             [
              0.4444444444444444,
              "#bd3786"
             ],
             [
              0.5555555555555556,
              "#d8576b"
             ],
             [
              0.6666666666666666,
              "#ed7953"
             ],
             [
              0.7777777777777778,
              "#fb9f3a"
             ],
             [
              0.8888888888888888,
              "#fdca26"
             ],
             [
              1,
              "#f0f921"
             ]
            ],
            "type": "histogram2d"
           }
          ],
          "histogram2dcontour": [
           {
            "colorbar": {
             "outlinewidth": 0,
             "ticks": ""
            },
            "colorscale": [
             [
              0,
              "#0d0887"
             ],
             [
              0.1111111111111111,
              "#46039f"
             ],
             [
              0.2222222222222222,
              "#7201a8"
             ],
             [
              0.3333333333333333,
              "#9c179e"
             ],
             [
              0.4444444444444444,
              "#bd3786"
             ],
             [
              0.5555555555555556,
              "#d8576b"
             ],
             [
              0.6666666666666666,
              "#ed7953"
             ],
             [
              0.7777777777777778,
              "#fb9f3a"
             ],
             [
              0.8888888888888888,
              "#fdca26"
             ],
             [
              1,
              "#f0f921"
             ]
            ],
            "type": "histogram2dcontour"
           }
          ],
          "mesh3d": [
           {
            "colorbar": {
             "outlinewidth": 0,
             "ticks": ""
            },
            "type": "mesh3d"
           }
          ],
          "parcoords": [
           {
            "line": {
             "colorbar": {
              "outlinewidth": 0,
              "ticks": ""
             }
            },
            "type": "parcoords"
           }
          ],
          "pie": [
           {
            "automargin": true,
            "type": "pie"
           }
          ],
          "scatter": [
           {
            "marker": {
             "colorbar": {
              "outlinewidth": 0,
              "ticks": ""
             }
            },
            "type": "scatter"
           }
          ],
          "scatter3d": [
           {
            "line": {
             "colorbar": {
              "outlinewidth": 0,
              "ticks": ""
             }
            },
            "marker": {
             "colorbar": {
              "outlinewidth": 0,
              "ticks": ""
             }
            },
            "type": "scatter3d"
           }
          ],
          "scattercarpet": [
           {
            "marker": {
             "colorbar": {
              "outlinewidth": 0,
              "ticks": ""
             }
            },
            "type": "scattercarpet"
           }
          ],
          "scattergeo": [
           {
            "marker": {
             "colorbar": {
              "outlinewidth": 0,
              "ticks": ""
             }
            },
            "type": "scattergeo"
           }
          ],
          "scattergl": [
           {
            "marker": {
             "colorbar": {
              "outlinewidth": 0,
              "ticks": ""
             }
            },
            "type": "scattergl"
           }
          ],
          "scattermapbox": [
           {
            "marker": {
             "colorbar": {
              "outlinewidth": 0,
              "ticks": ""
             }
            },
            "type": "scattermapbox"
           }
          ],
          "scatterpolar": [
           {
            "marker": {
             "colorbar": {
              "outlinewidth": 0,
              "ticks": ""
             }
            },
            "type": "scatterpolar"
           }
          ],
          "scatterpolargl": [
           {
            "marker": {
             "colorbar": {
              "outlinewidth": 0,
              "ticks": ""
             }
            },
            "type": "scatterpolargl"
           }
          ],
          "scatterternary": [
           {
            "marker": {
             "colorbar": {
              "outlinewidth": 0,
              "ticks": ""
             }
            },
            "type": "scatterternary"
           }
          ],
          "surface": [
           {
            "colorbar": {
             "outlinewidth": 0,
             "ticks": ""
            },
            "colorscale": [
             [
              0,
              "#0d0887"
             ],
             [
              0.1111111111111111,
              "#46039f"
             ],
             [
              0.2222222222222222,
              "#7201a8"
             ],
             [
              0.3333333333333333,
              "#9c179e"
             ],
             [
              0.4444444444444444,
              "#bd3786"
             ],
             [
              0.5555555555555556,
              "#d8576b"
             ],
             [
              0.6666666666666666,
              "#ed7953"
             ],
             [
              0.7777777777777778,
              "#fb9f3a"
             ],
             [
              0.8888888888888888,
              "#fdca26"
             ],
             [
              1,
              "#f0f921"
             ]
            ],
            "type": "surface"
           }
          ],
          "table": [
           {
            "cells": {
             "fill": {
              "color": "#EBF0F8"
             },
             "line": {
              "color": "white"
             }
            },
            "header": {
             "fill": {
              "color": "#C8D4E3"
             },
             "line": {
              "color": "white"
             }
            },
            "type": "table"
           }
          ]
         },
         "layout": {
          "annotationdefaults": {
           "arrowcolor": "#2a3f5f",
           "arrowhead": 0,
           "arrowwidth": 1
          },
          "autotypenumbers": "strict",
          "coloraxis": {
           "colorbar": {
            "outlinewidth": 0,
            "ticks": ""
           }
          },
          "colorscale": {
           "diverging": [
            [
             0,
             "#8e0152"
            ],
            [
             0.1,
             "#c51b7d"
            ],
            [
             0.2,
             "#de77ae"
            ],
            [
             0.3,
             "#f1b6da"
            ],
            [
             0.4,
             "#fde0ef"
            ],
            [
             0.5,
             "#f7f7f7"
            ],
            [
             0.6,
             "#e6f5d0"
            ],
            [
             0.7,
             "#b8e186"
            ],
            [
             0.8,
             "#7fbc41"
            ],
            [
             0.9,
             "#4d9221"
            ],
            [
             1,
             "#276419"
            ]
           ],
           "sequential": [
            [
             0,
             "#0d0887"
            ],
            [
             0.1111111111111111,
             "#46039f"
            ],
            [
             0.2222222222222222,
             "#7201a8"
            ],
            [
             0.3333333333333333,
             "#9c179e"
            ],
            [
             0.4444444444444444,
             "#bd3786"
            ],
            [
             0.5555555555555556,
             "#d8576b"
            ],
            [
             0.6666666666666666,
             "#ed7953"
            ],
            [
             0.7777777777777778,
             "#fb9f3a"
            ],
            [
             0.8888888888888888,
             "#fdca26"
            ],
            [
             1,
             "#f0f921"
            ]
           ],
           "sequentialminus": [
            [
             0,
             "#0d0887"
            ],
            [
             0.1111111111111111,
             "#46039f"
            ],
            [
             0.2222222222222222,
             "#7201a8"
            ],
            [
             0.3333333333333333,
             "#9c179e"
            ],
            [
             0.4444444444444444,
             "#bd3786"
            ],
            [
             0.5555555555555556,
             "#d8576b"
            ],
            [
             0.6666666666666666,
             "#ed7953"
            ],
            [
             0.7777777777777778,
             "#fb9f3a"
            ],
            [
             0.8888888888888888,
             "#fdca26"
            ],
            [
             1,
             "#f0f921"
            ]
           ]
          },
          "colorway": [
           "#636efa",
           "#EF553B",
           "#00cc96",
           "#ab63fa",
           "#FFA15A",
           "#19d3f3",
           "#FF6692",
           "#B6E880",
           "#FF97FF",
           "#FECB52"
          ],
          "font": {
           "color": "#2a3f5f"
          },
          "geo": {
           "bgcolor": "white",
           "lakecolor": "white",
           "landcolor": "#E5ECF6",
           "showlakes": true,
           "showland": true,
           "subunitcolor": "white"
          },
          "hoverlabel": {
           "align": "left"
          },
          "hovermode": "closest",
          "mapbox": {
           "style": "light"
          },
          "paper_bgcolor": "white",
          "plot_bgcolor": "#E5ECF6",
          "polar": {
           "angularaxis": {
            "gridcolor": "white",
            "linecolor": "white",
            "ticks": ""
           },
           "bgcolor": "#E5ECF6",
           "radialaxis": {
            "gridcolor": "white",
            "linecolor": "white",
            "ticks": ""
           }
          },
          "scene": {
           "xaxis": {
            "backgroundcolor": "#E5ECF6",
            "gridcolor": "white",
            "gridwidth": 2,
            "linecolor": "white",
            "showbackground": true,
            "ticks": "",
            "zerolinecolor": "white"
           },
           "yaxis": {
            "backgroundcolor": "#E5ECF6",
            "gridcolor": "white",
            "gridwidth": 2,
            "linecolor": "white",
            "showbackground": true,
            "ticks": "",
            "zerolinecolor": "white"
           },
           "zaxis": {
            "backgroundcolor": "#E5ECF6",
            "gridcolor": "white",
            "gridwidth": 2,
            "linecolor": "white",
            "showbackground": true,
            "ticks": "",
            "zerolinecolor": "white"
           }
          },
          "shapedefaults": {
           "line": {
            "color": "#2a3f5f"
           }
          },
          "ternary": {
           "aaxis": {
            "gridcolor": "white",
            "linecolor": "white",
            "ticks": ""
           },
           "baxis": {
            "gridcolor": "white",
            "linecolor": "white",
            "ticks": ""
           },
           "bgcolor": "#E5ECF6",
           "caxis": {
            "gridcolor": "white",
            "linecolor": "white",
            "ticks": ""
           }
          },
          "title": {
           "x": 0.05
          },
          "xaxis": {
           "automargin": true,
           "gridcolor": "white",
           "linecolor": "white",
           "ticks": "",
           "title": {
            "standoff": 15
           },
           "zerolinecolor": "white",
           "zerolinewidth": 2
          },
          "yaxis": {
           "automargin": true,
           "gridcolor": "white",
           "linecolor": "white",
           "ticks": "",
           "title": {
            "standoff": 15
           },
           "zerolinecolor": "white",
           "zerolinewidth": 2
          }
         }
        }
       }
      }
     },
     "metadata": {},
     "output_type": "display_data"
    }
   ],
   "source": [
    "import matplotlib.pyplot as plt\n",
    "plt.scatter(x=location_data[\"longitude\"], y=location_data[\"latitude\"])\n",
    "plt.scatter(x=kmeans.cluster_centers_[:,0], y=kmeans.cluster_centers_[:,1], c='red', marker='x')\n",
    "plt.title('Data points and cluster centroids')\n",
    "plt.show()\n",
    "import plotly.graph_objects as go\n",
    "fig = go.Figure(data=go.Scatter(y=[2, 3, 1]))\n",
    "fig.show()"
   ]
  },
  {
   "cell_type": "code",
   "execution_count": 14,
   "metadata": {},
   "outputs": [],
   "source": [
    "import pandas\n",
    "def calculate(location_type, num_locations):\n",
    "  api_key='MT9rSfKdpGgr2HFQMsZKDNVZxW6KJcnmWd8YtS6Tp0XcVC2uBL02HGB_B9NN43IekQbOjrqRBNCEcZGDblhnvWG7U8Oqdien6YZCy08VR4T4dDz1wNSgW17WV0_mYXYx'\n",
    "  headers = {'Authorization': 'Bearer %s' % api_key}\n",
    "  url='https://api.yelp.com/v3/businesses/search'\n",
    "  city = \"Seattle\"\n",
    "  params = {'term':location_type,'location':city}\n",
    "  req=requests.get(url, params=params, headers=headers)\n",
    "  req=json.loads(req.text)\n",
    "  results_list = numpy.empty(shape=num_locations, dtype=object) \n",
    "  for i in range(0, num_locations) :\n",
    "    results_list[i] = req[\"businesses\"][i][\"name\"]\n",
    "  results_list = pandas.Series(results_list).to_json(orient='values')\n",
    "  search_query = location_type\n",
    "  message = {\"searchQuery\": search_query, \"resultsList\": results_list}\n",
    "  return message"
   ]
  },
  {
   "cell_type": "code",
   "execution_count": 15,
   "metadata": {},
   "outputs": [
    {
     "data": {
      "text/plain": [
       "{'searchQuery': 'Bubble Tea',\n",
       " 'resultsList': '[\"Dont Yell At Me\",\"Young Tea\",\"DRIP TEA\"]'}"
      ]
     },
     "execution_count": 15,
     "metadata": {},
     "output_type": "execute_result"
    }
   ],
   "source": [
    "calculate(\"Bubble Tea\", 3)"
   ]
  }
 ],
 "metadata": {
  "interpreter": {
   "hash": "3c5be44d2f8eb20614ca85f095aaa33bc3370a7195f3bd2dd22b644512d1ebb4"
  },
  "kernelspec": {
   "display_name": "Python 3.9.7 64-bit ('base': conda)",
   "language": "python",
   "name": "python3"
  },
  "language_info": {
   "codemirror_mode": {
    "name": "ipython",
    "version": 3
   },
   "file_extension": ".py",
   "mimetype": "text/x-python",
   "name": "python",
   "nbconvert_exporter": "python",
   "pygments_lexer": "ipython3",
   "version": "3.9.7"
  },
  "orig_nbformat": 4
 },
 "nbformat": 4,
 "nbformat_minor": 2
}
